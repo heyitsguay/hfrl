{
 "cells": [
  {
   "cell_type": "markdown",
   "id": "bf3ace38-720f-42d4-acc5-8ecadafdde1b",
   "metadata": {},
   "source": [
    "# Unit 2: Q-Learning with FrozenLake-v1 and Taxi-v3"
   ]
  },
  {
   "cell_type": "code",
   "execution_count": 2,
   "id": "31b03b0a-09d9-4400-8528-b423421eb9f5",
   "metadata": {},
   "outputs": [
    {
     "data": {
      "text/plain": [
       "<pyvirtualdisplay.display.Display at 0x7fc113f578e0>"
      ]
     },
     "execution_count": 2,
     "metadata": {},
     "output_type": "execute_result"
    }
   ],
   "source": [
    "from pyvirtualdisplay import Display\n",
    "\n",
    "virtual_display = Display(visible=0, size=(1400, 900))\n",
    "virtual_display.start()"
   ]
  },
  {
   "cell_type": "code",
   "execution_count": 3,
   "id": "9dad6af3-9964-4b67-a749-4cc4c49c2cbb",
   "metadata": {},
   "outputs": [],
   "source": [
    "import os\n",
    "import pickle\n",
    "import random\n",
    "\n",
    "import gym\n",
    "import imageio\n",
    "import matplotlib.pyplot as plt\n",
    "import numpy as np\n",
    "\n",
    "from tqdm.notebook import tqdm"
   ]
  },
  {
   "cell_type": "markdown",
   "id": "b263c58e-fa56-4bd7-8d12-e11eb458ac32",
   "metadata": {},
   "source": [
    "## Setup"
   ]
  },
  {
   "cell_type": "code",
   "execution_count": 4,
   "id": "b6681567-897a-4884-bd50-3bebff51e350",
   "metadata": {},
   "outputs": [
    {
     "name": "stderr",
     "output_type": "stream",
     "text": [
      "/home/matt/venv/hfrl/lib/python3.10/site-packages/gym/core.py:329: DeprecationWarning: \u001b[33mWARN: Initializing wrapper in old step API which returns one bool instead of two. It is recommended to set `new_step_api=True` to use new step API. This will be the default behaviour in future.\u001b[0m\n",
      "  deprecation(\n",
      "/home/matt/venv/hfrl/lib/python3.10/site-packages/gym/wrappers/step_api_compatibility.py:39: DeprecationWarning: \u001b[33mWARN: Initializing environment in old step API which returns one bool instead of two. It is recommended to set `new_step_api=True` to use new step API. This will be the default behaviour in future.\u001b[0m\n",
      "  deprecation(\n"
     ]
    }
   ],
   "source": [
    "env = gym.make('FrozenLake-v1', map_name='4x4', is_slippery=True)"
   ]
  },
  {
   "cell_type": "markdown",
   "id": "19070691-776f-4af5-8367-e4d51107220a",
   "metadata": {},
   "source": [
    "**Q-Table initialization**"
   ]
  },
  {
   "cell_type": "code",
   "execution_count": 5,
   "id": "f3e26761-2f67-4bc2-891e-98081a2b6098",
   "metadata": {},
   "outputs": [
    {
     "name": "stdout",
     "output_type": "stream",
     "text": [
      "There are 16 states and 4 actions\n"
     ]
    }
   ],
   "source": [
    "n_states = env.observation_space.n\n",
    "n_actions = env.action_space.n\n",
    "print(f'There are {n_states} states and {n_actions} actions')"
   ]
  },
  {
   "cell_type": "code",
   "execution_count": 6,
   "id": "aac0fb1d-dbb3-4015-838b-a2b169f2dbb4",
   "metadata": {},
   "outputs": [],
   "source": [
    "def initialize_qtable(n_states, n_actions):\n",
    "    return np.zeros((n_states, n_actions))"
   ]
  },
  {
   "cell_type": "code",
   "execution_count": 7,
   "id": "7f810e6d-8815-412f-a312-18854c95e19f",
   "metadata": {},
   "outputs": [],
   "source": [
    "qtable_frozenlake = initialize_qtable(n_states, n_actions)"
   ]
  },
  {
   "cell_type": "markdown",
   "id": "b31fbb20-5e16-4822-a2c5-632505eb551c",
   "metadata": {},
   "source": [
    "**Greedy policy definition**"
   ]
  },
  {
   "cell_type": "code",
   "execution_count": 8,
   "id": "5644f520-aa72-49a0-8d9b-add2899e0a35",
   "metadata": {},
   "outputs": [],
   "source": [
    "def greedy_policy(qtable, state):\n",
    "    return np.argmax(qtable[state])"
   ]
  },
  {
   "cell_type": "markdown",
   "id": "99cc223c-e7da-4a1a-be6e-d745e6e20b70",
   "metadata": {},
   "source": [
    "**$\\epsilon$-greedy policy definition**"
   ]
  },
  {
   "cell_type": "code",
   "execution_count": 9,
   "id": "b1b88afe-1552-4997-ae38-d1eae42d38b1",
   "metadata": {},
   "outputs": [],
   "source": [
    "def epsilon_greedy_policy(qtable, state, epsilon):\n",
    "    if random.random() > epsilon:\n",
    "        return greedy_policy(qtable, state)\n",
    "    return random.randrange(qtable.shape[1])"
   ]
  },
  {
   "cell_type": "markdown",
   "id": "b86c9489-f0a5-4a3a-8371-458fe9ae1ca3",
   "metadata": {},
   "source": [
    "**Define hyperparameters**"
   ]
  },
  {
   "cell_type": "code",
   "execution_count": 36,
   "id": "c4e122e5-51c5-462a-8db3-03e2dea78a77",
   "metadata": {},
   "outputs": [],
   "source": [
    "# Training parameters\n",
    "n_training_episodes = 500000\n",
    "learning_rate = lambda x: 0.5 * 0.955 ** int(100 * x)\n",
    "\n",
    "# Evaluation parameters\n",
    "n_eval_episodes = 1000\n",
    "\n",
    "# Environment parameters\n",
    "env_id = 'FrozenLake-v1'\n",
    "max_steps = 999\n",
    "gamma = 0.98\n",
    "eval_seed = []\n",
    "\n",
    "# Exploration parameters\n",
    "max_epsilon = 1\n",
    "min_epsilon = 0.001\n",
    "decay_rate = 0.0004"
   ]
  },
  {
   "cell_type": "markdown",
   "id": "a1a994b0-25b9-4def-8890-cb326d53f006",
   "metadata": {},
   "source": [
    "## Training"
   ]
  },
  {
   "cell_type": "code",
   "execution_count": 37,
   "id": "7c924e40-627e-4f1f-a7ce-21b3db2c833e",
   "metadata": {},
   "outputs": [],
   "source": [
    "def train(\n",
    "        n_training_episodes,\n",
    "        learning_rate, \n",
    "        min_epsilon, \n",
    "        max_epsilon, \n",
    "        decay_rate, \n",
    "        env, \n",
    "        gamma,\n",
    "        max_steps, \n",
    "        qtable):\n",
    "    total_rewards = []\n",
    "    for episode in tqdm(range(n_training_episodes)):\n",
    "        total_reward = 0\n",
    "        dt = episode / (n_training_episodes - 1)\n",
    "        lr = learning_rate(dt)\n",
    "        epsilon = min_epsilon + (max_epsilon - min_epsilon) * np.exp(-decay_rate * episode)\n",
    "        \n",
    "        state = env.reset()\n",
    "        step = 0\n",
    "        done = False\n",
    "        \n",
    "        for step in range(max_steps):\n",
    "            action = epsilon_greedy_policy(qtable, state, epsilon)\n",
    "            \n",
    "            new_state, reward, done, info = env.step(action)\n",
    "            total_reward += reward\n",
    "            \n",
    "            qtable[state][action] += \\\n",
    "                lr * (reward + gamma * np.max(qtable[new_state]) - qtable[state][action])\n",
    "            \n",
    "            if done:\n",
    "                break\n",
    "            \n",
    "            state = new_state\n",
    "        \n",
    "        total_rewards.append(total_reward)\n",
    "    \n",
    "    # Compute a rolling windowed average over 500 episodes at a time\n",
    "    w = 500\n",
    "    ret = np.cumsum(total_rewards)\n",
    "    ret[w:] = ret[w:] - ret[:-w]\n",
    "    w_avg = ret[w - 1:] / w\n",
    "    \n",
    "    plt.plot(w_avg)\n",
    "    plt.xlabel('Episode')\n",
    "    plt.ylabel(f'{w}-episode average reward')\n",
    "    plt.title('Average reward during training')\n",
    "    plt.show()\n",
    "    return qtable\n"
   ]
  },
  {
   "cell_type": "code",
   "execution_count": 38,
   "id": "fee65941-a769-4afb-9bb5-dcfd91e74dae",
   "metadata": {},
   "outputs": [
    {
     "data": {
      "application/vnd.jupyter.widget-view+json": {
       "model_id": "0e28ede279124d63b42d9e48fc10e2fc",
       "version_major": 2,
       "version_minor": 0
      },
      "text/plain": [
       "  0%|          | 0/500000 [00:00<?, ?it/s]"
      ]
     },
     "metadata": {},
     "output_type": "display_data"
    },
    {
     "data": {
      "image/png": "[encoded data removed]",
      "text/plain": [
       "<Figure size 640x480 with 1 Axes>"
      ]
     },
     "metadata": {},
     "output_type": "display_data"
    }
   ],
   "source": [
    "qtable_frozenlake = train(\n",
    "    n_training_episodes,\n",
    "    learning_rate,\n",
    "    min_epsilon,\n",
    "    max_epsilon,\n",
    "    decay_rate,\n",
    "    env,\n",
    "    gamma,\n",
    "    max_steps,\n",
    "    qtable_frozenlake)"
   ]
  },
  {
   "cell_type": "markdown",
   "id": "9f7898f5-198e-4540-8b36-49d0bb7a2c1b",
   "metadata": {},
   "source": [
    "###### **View result**"
   ]
  },
  {
   "cell_type": "code",
   "execution_count": 13,
   "id": "9ae47cf1-1070-4b7f-9674-279b65070c05",
   "metadata": {},
   "outputs": [
    {
     "data": {
      "text/plain": [
       "array([[4.98964028e-01, 2.54682400e-01, 2.62807280e-01, 2.63409480e-01],\n",
       "       [2.95487935e-02, 3.95985593e-02, 9.33718484e-02, 3.51743563e-01],\n",
       "       [9.67390208e-02, 1.97114448e-01, 1.97808610e-01, 3.23340890e-01],\n",
       "       [9.75532539e-02, 1.86976238e-02, 5.80290754e-02, 2.87772431e-01],\n",
       "       [5.22958325e-01, 2.47174537e-01, 3.70149475e-02, 1.31509663e-01],\n",
       "       [0.00000000e+00, 0.00000000e+00, 0.00000000e+00, 0.00000000e+00],\n",
       "       [1.66035275e-03, 6.74745287e-04, 3.36396463e-01, 3.31445477e-04],\n",
       "       [0.00000000e+00, 0.00000000e+00, 0.00000000e+00, 0.00000000e+00],\n",
       "       [6.91467974e-02, 1.52845729e-01, 1.98867347e-01, 5.77868343e-01],\n",
       "       [1.12630434e-01, 7.00696379e-01, 1.07706795e-01, 1.38334932e-01],\n",
       "       [4.78774198e-01, 3.13647326e-02, 9.68049923e-02, 1.75176873e-01],\n",
       "       [0.00000000e+00, 0.00000000e+00, 0.00000000e+00, 0.00000000e+00],\n",
       "       [0.00000000e+00, 0.00000000e+00, 0.00000000e+00, 0.00000000e+00],\n",
       "       [5.30971953e-01, 1.86698599e-01, 8.35139155e-01, 3.62230174e-01],\n",
       "       [5.07881535e-01, 9.58216631e-01, 4.86808740e-01, 4.56964318e-01],\n",
       "       [0.00000000e+00, 0.00000000e+00, 0.00000000e+00, 0.00000000e+00]])"
      ]
     },
     "execution_count": 13,
     "metadata": {},
     "output_type": "execute_result"
    }
   ],
   "source": [
    "qtable_frozenlake"
   ]
  },
  {
   "cell_type": "markdown",
   "id": "ebdedddc-0337-4c7f-ad15-f608b7832bfe",
   "metadata": {},
   "source": [
    "## Evaluation"
   ]
  },
  {
   "cell_type": "code",
   "execution_count": 14,
   "id": "1042e03f-c4e5-40c4-80a1-cfe9a4f193e9",
   "metadata": {},
   "outputs": [],
   "source": [
    "def evaluate_agent(env, max_steps, n_eval_episodes, qtable, seed):\n",
    "    episode_rewards = []\n",
    "    for episode in tqdm(range(n_eval_episodes)):\n",
    "        if seed:\n",
    "            state = env.reset(seed=seed[episode])\n",
    "        else:\n",
    "            state = env.reset()\n",
    "        \n",
    "        step = 0\n",
    "        done = False\n",
    "        total_rewards_ep = 0\n",
    "        \n",
    "        for step in range(max_steps):\n",
    "            action = greedy_policy(qtable, state)\n",
    "            new_state, reward, done, info = env.step(action)\n",
    "            total_rewards_ep += reward\n",
    "            \n",
    "            if done:\n",
    "                break\n",
    "            state = new_state\n",
    "        episode_rewards.append(total_rewards_ep)\n",
    "    mean_reward = np.mean(episode_rewards)\n",
    "    std_reward = np.std(episode_rewards)\n",
    "    return mean_reward, std_reward"
   ]
  },
  {
   "cell_type": "markdown",
   "id": "8abd7b65-9f84-405b-8f06-90e9eb563835",
   "metadata": {},
   "source": [
    "**Evaluate**"
   ]
  },
  {
   "cell_type": "code",
   "execution_count": 15,
   "id": "64f47516-91ff-4cbd-9f98-ed084eb65fde",
   "metadata": {},
   "outputs": [
    {
     "data": {
      "application/vnd.jupyter.widget-view+json": {
       "model_id": "6119818dc49943ea9fe609d0b35733dd",
       "version_major": 2,
       "version_minor": 0
      },
      "text/plain": [
       "  0%|          | 0/1000 [00:00<?, ?it/s]"
      ]
     },
     "metadata": {},
     "output_type": "display_data"
    },
    {
     "name": "stdout",
     "output_type": "stream",
     "text": [
      "Mean_reward=0.74 +/- 0.44\n"
     ]
    }
   ],
   "source": [
    "mean_reward, std_reward = evaluate_agent(env, max_steps*10, n_eval_episodes, qtable_frozenlake, eval_seed)\n",
    "print(f\"Mean_reward={mean_reward:.2f} +/- {std_reward:.2f}\")"
   ]
  },
  {
   "cell_type": "markdown",
   "id": "46e5f74b-007b-484c-bf56-b4d5d0bae696",
   "metadata": {},
   "source": [
    "## Push to Hub"
   ]
  },
  {
   "cell_type": "code",
   "execution_count": 16,
   "id": "3e27813e-61f2-4d6a-8a8e-61039282d11b",
   "metadata": {},
   "outputs": [],
   "source": [
    "import datetime\n",
    "import json\n",
    "\n",
    "from pathlib import Path\n",
    "\n",
    "from huggingface_hub import HfApi, snapshot_download\n",
    "from huggingface_hub.repocard import metadata_eval_result, metadata_save"
   ]
  },
  {
   "cell_type": "code",
   "execution_count": 17,
   "id": "2c703c4f-0975-4c3e-a467-ca7666747a8b",
   "metadata": {},
   "outputs": [],
   "source": [
    "def record_video(env, qtable, out_file, fps=1):\n",
    "    out_dir = os.path.dirname(out_file)\n",
    "    os.makedirs(out_dir, exist_ok=True)\n",
    "    writer = imageio.get_writer(out_file, fps=fps)\n",
    "    done = False\n",
    "    state = env.reset()#seed=random.randint(0,500))\n",
    "    img = env.render(mode='rgb_array')\n",
    "    writer.append_data(img)\n",
    "    while not done:\n",
    "        # Take the action (index) that have the maximum expected future reward given that state\n",
    "        action = np.argmax(qtable[state][:])\n",
    "        state, reward, done, info = env.step(action) # We directly put next_state = state for recording logic\n",
    "        img = env.render(mode='rgb_array')\n",
    "        writer.append_data(img)\n",
    "\n",
    "    writer.close()"
   ]
  },
  {
   "cell_type": "code",
   "execution_count": 18,
   "id": "c8bc5726-b8d4-4565-8590-e2c99122f870",
   "metadata": {},
   "outputs": [
    {
     "name": "stderr",
     "output_type": "stream",
     "text": [
      "/home/matt/venv/hfrl/lib/python3.10/site-packages/gym/core.py:51: DeprecationWarning: \u001b[33mWARN: The argument mode in render method is deprecated; use render_mode during environment initialization instead.\n",
      "See here for more information: https://www.gymlibrary.ml/content/api/\u001b[0m\n",
      "  deprecation(\n"
     ]
    }
   ],
   "source": [
    "for i in range(5):\n",
    "    record_video(env, qtable_frozenlake, f'./media/slippery/test{i}.mp4', 4)"
   ]
  },
  {
   "cell_type": "code",
   "execution_count": 20,
   "id": "2fbeb37b-b078-4124-934f-1d15f8482f98",
   "metadata": {},
   "outputs": [
    {
     "data": {
      "text/html": [
       "<video controls autoplay><source src=\"./media/slippery/test3.mp4\" type=\"video/mp4\"></video>\n"
      ],
      "text/plain": [
       "<IPython.core.display.HTML object>"
      ]
     },
     "metadata": {},
     "output_type": "display_data"
    }
   ],
   "source": [
    "%%html\n",
    "<video controls autoplay><source src=\"./media/slippery/test3.mp4\" type=\"video/mp4\"></video>"
   ]
  },
  {
   "cell_type": "code",
   "execution_count": 21,
   "id": "f2f326e9-cf89-4e37-88f9-60c6f9192f7a",
   "metadata": {},
   "outputs": [],
   "source": [
    "def push_to_hub(\n",
    "    repo_id, model, env, video_fps=2, local_repo_path=\"hub\"\n",
    "):\n",
    "    \"\"\"\n",
    "    Evaluate, Generate a video and Upload a model to Hugging Face Hub.\n",
    "    This method does the complete pipeline:\n",
    "    - It evaluates the model\n",
    "    - It generates the model card\n",
    "    - It generates a replay video of the agent\n",
    "    - It pushes everything to the Hub\n",
    "\n",
    "    :param repo_id: repo_id: id of the model repository from the Hugging Face Hub\n",
    "    :param env\n",
    "    :param video_fps: how many frame per seconds to record our video replay \n",
    "    (with taxi-v3 and frozenlake-v1 we use 1)\n",
    "    :param local_repo_path: where the local repository is\n",
    "    \"\"\"\n",
    "    _, repo_name = repo_id.split(\"/\")\n",
    "\n",
    "    eval_env = env\n",
    "    api = HfApi()\n",
    "\n",
    "    # Step 1: Create the repo\n",
    "    repo_url = api.create_repo(\n",
    "        repo_id=repo_id,\n",
    "        exist_ok=True,\n",
    "    )\n",
    "\n",
    "    # Step 2: Download files\n",
    "    repo_local_path = Path(snapshot_download(repo_id=repo_id))\n",
    "\n",
    "    # Step 3: Save the model\n",
    "    if env.spec.kwargs.get(\"map_name\"):\n",
    "        model[\"map_name\"] = env.spec.kwargs.get(\"map_name\")\n",
    "        if env.spec.kwargs.get(\"is_slippery\", \"\") == False:\n",
    "            model[\"slippery\"] = False\n",
    "\n",
    "    # Pickle the model\n",
    "    with open((repo_local_path) / \"q-learning.pkl\", \"wb\") as f:\n",
    "        pickle.dump(model, f)\n",
    "\n",
    "    # Step 4: Evaluate the model and build JSON with evaluation metrics\n",
    "    mean_reward, std_reward = evaluate_agent(\n",
    "        eval_env, model[\"max_steps\"], model[\"n_eval_episodes\"], model[\"qtable\"], model[\"eval_seed\"]\n",
    "    )\n",
    "\n",
    "    evaluate_data = {\n",
    "        \"env_id\": model[\"env_id\"],\n",
    "        \"mean_reward\": mean_reward,\n",
    "        \"n_eval_episodes\": model[\"n_eval_episodes\"],\n",
    "        \"eval_datetime\": datetime.datetime.now().isoformat()\n",
    "    }\n",
    "\n",
    "    # Write a JSON file called \"results.json\" that will contain the\n",
    "    # evaluation results\n",
    "    with open(repo_local_path / \"results.json\", \"w\") as outfile:\n",
    "        json.dump(evaluate_data, outfile)\n",
    "\n",
    "    # Step 5: Create the model card\n",
    "    env_name = model[\"env_id\"]\n",
    "    if env.spec.kwargs.get(\"map_name\"):\n",
    "        env_name += \"-\" + env.spec.kwargs.get(\"map_name\")\n",
    "\n",
    "    if env.spec.kwargs.get(\"is_slippery\", \"\") == False:\n",
    "        env_name += \"-\" + \"no_slippery\"\n",
    "\n",
    "    metadata = {}\n",
    "    metadata[\"tags\"] = [env_name, \"q-learning\", \"reinforcement-learning\", \"custom-implementation\"]\n",
    "\n",
    "    # Add metrics\n",
    "    eval = metadata_eval_result(\n",
    "        model_pretty_name=repo_name,\n",
    "        task_pretty_name=\"reinforcement-learning\",\n",
    "        task_id=\"reinforcement-learning\",\n",
    "        metrics_pretty_name=\"mean_reward\",\n",
    "        metrics_id=\"mean_reward\",\n",
    "        metrics_value=f\"{mean_reward:.2f} +/- {std_reward:.2f}\",\n",
    "        dataset_pretty_name=env_name,\n",
    "        dataset_id=env_name,\n",
    "    )\n",
    "\n",
    "    # Merges both dictionaries\n",
    "    metadata = {**metadata, **eval}\n",
    "\n",
    "    model_card = f\"\"\"\n",
    "  # **Q-Learning** Agent playing1 **{env_id}**\n",
    "  This is a trained model of a **Q-Learning** agent playing **{env_id}** .\n",
    "\n",
    "  ## Usage\n",
    "\n",
    "  ```python\n",
    "  \n",
    "  model = load_from_hub(repo_id=\"{repo_id}\", filename=\"q-learning.pkl\")\n",
    "\n",
    "  # Don't forget to check if you need to add additional attributes (is_slippery=False etc)\n",
    "  env = gym.make(model[\"env_id\"])\n",
    "  ```\n",
    "  \"\"\"\n",
    "\n",
    "    evaluate_agent(env, model[\"max_steps\"], model[\"n_eval_episodes\"], model[\"qtable\"], model[\"eval_seed\"])\n",
    "  \n",
    "    readme_path = repo_local_path / \"README.md\"\n",
    "    readme = \"\"\n",
    "    print(readme_path.exists())\n",
    "    if readme_path.exists():\n",
    "        with readme_path.open(\"r\", encoding=\"utf8\") as f:\n",
    "            readme = f.read()\n",
    "    else:\n",
    "        readme = model_card\n",
    "\n",
    "    with readme_path.open(\"w\", encoding=\"utf-8\") as f:\n",
    "        f.write(readme)\n",
    "\n",
    "    # Save our metrics to Readme metadata\n",
    "    metadata_save(readme_path, metadata)\n",
    "\n",
    "    # Step 6: Record a video\n",
    "    video_path = repo_local_path / \"replay.mp4\"\n",
    "    record_video(env, model[\"qtable\"], video_path, video_fps)\n",
    "\n",
    "    # Step 7. Push everything to the Hub\n",
    "    api.upload_folder(\n",
    "        repo_id=repo_id,\n",
    "        folder_path=repo_local_path,\n",
    "        path_in_repo=\".\",\n",
    "    )\n",
    "\n",
    "    print(\"Your model is pushed to the Hub. You can view your model here: \", repo_url)"
   ]
  },
  {
   "cell_type": "markdown",
   "id": "52372979-5671-4540-ab86-640f06bbb0da",
   "metadata": {},
   "source": [
    "**Do the pushing**"
   ]
  },
  {
   "cell_type": "code",
   "execution_count": 22,
   "id": "a84e02b2-36f1-45c9-8cfd-11a8b8275cc7",
   "metadata": {},
   "outputs": [
    {
     "data": {
      "application/vnd.jupyter.widget-view+json": {
       "model_id": "3c91204c5a214dc0a54f1788a5b3b8a9",
       "version_major": 2,
       "version_minor": 0
      },
      "text/plain": [
       "VBox(children=(HTML(value='<center> <img\\nsrc=https://huggingface.co/front/assets/huggingface_logo-noborder.sv…"
      ]
     },
     "metadata": {},
     "output_type": "display_data"
    }
   ],
   "source": [
    "from huggingface_hub import notebook_login\n",
    "notebook_login()"
   ]
  },
  {
   "cell_type": "code",
   "execution_count": 23,
   "id": "4a7658ee-49ba-436c-99b2-22421b49238f",
   "metadata": {},
   "outputs": [],
   "source": [
    "model = {\n",
    "    \"env_id\": env_id,\n",
    "    \"max_steps\": max_steps,\n",
    "    \"n_training_episodes\": n_training_episodes,\n",
    "    \"n_eval_episodes\": n_eval_episodes,\n",
    "    \"eval_seed\": eval_seed,\n",
    "\n",
    "    \"learning_rate\": learning_rate,\n",
    "    \"gamma\": gamma,\n",
    "\n",
    "    \"max_epsilon\": max_epsilon,\n",
    "    \"min_epsilon\": min_epsilon,\n",
    "    \"decay_rate\": decay_rate,\n",
    "\n",
    "    \"qtable\": qtable_frozenlake\n",
    "}"
   ]
  },
  {
   "cell_type": "code",
   "execution_count": 24,
   "id": "252af680-2183-4fc1-8f54-6e746e6c69df",
   "metadata": {},
   "outputs": [
    {
     "data": {
      "application/vnd.jupyter.widget-view+json": {
       "model_id": "7668b1540d7b4f34807bb4bced2ce317",
       "version_major": 2,
       "version_minor": 0
      },
      "text/plain": [
       "Fetching 1 files:   0%|          | 0/1 [00:00<?, ?it/s]"
      ]
     },
     "metadata": {},
     "output_type": "display_data"
    },
    {
     "data": {
      "application/vnd.jupyter.widget-view+json": {
       "model_id": "bd79f26e1f6549d9a23dc1dc14e54e93",
       "version_major": 2,
       "version_minor": 0
      },
      "text/plain": [
       "Downloading:   0%|          | 0.00/1.48k [00:00<?, ?B/s]"
      ]
     },
     "metadata": {},
     "output_type": "display_data"
    },
    {
     "data": {
      "application/vnd.jupyter.widget-view+json": {
       "model_id": "d8b7b79d65574fdeb1d001ce33ef7313",
       "version_major": 2,
       "version_minor": 0
      },
      "text/plain": [
       "  0%|          | 0/1000 [00:00<?, ?it/s]"
      ]
     },
     "metadata": {},
     "output_type": "display_data"
    },
    {
     "data": {
      "application/vnd.jupyter.widget-view+json": {
       "model_id": "780fb79fc83a426eb09d47bae300ad09",
       "version_major": 2,
       "version_minor": 0
      },
      "text/plain": [
       "  0%|          | 0/1000 [00:00<?, ?it/s]"
      ]
     },
     "metadata": {},
     "output_type": "display_data"
    },
    {
     "name": "stdout",
     "output_type": "stream",
     "text": [
      "False\n"
     ]
    },
    {
     "name": "stderr",
     "output_type": "stream",
     "text": [
      "/home/matt/venv/hfrl/lib/python3.10/site-packages/gym/core.py:51: DeprecationWarning: \u001b[33mWARN: The argument mode in render method is deprecated; use render_mode during environment initialization instead.\n",
      "See here for more information: https://www.gymlibrary.ml/content/api/\u001b[0m\n",
      "  deprecation(\n"
     ]
    },
    {
     "name": "stdout",
     "output_type": "stream",
     "text": [
      "Your model is pushed to the Hub. You can view your model here:  https://huggingface.co/matt-guay/q-FrozenLake-v1-4x4-Slippery\n"
     ]
    }
   ],
   "source": [
    "username = \"matt-guay\"\n",
    "repo_name = \"q-FrozenLake-v1-4x4-Slippery\"\n",
    "push_to_hub(\n",
    "    repo_id=f\"{username}/{repo_name}\",\n",
    "    model=model,\n",
    "    env=env)"
   ]
  },
  {
   "cell_type": "markdown",
   "id": "af654b35-f919-4d83-9d99-9fa18bba6673",
   "metadata": {},
   "source": [
    "---\n",
    "\n",
    "#  Taxi-v3\n",
    "\n",
    "---"
   ]
  },
  {
   "cell_type": "markdown",
   "id": "d0a9d06a-eea5-4c90-a677-69cea7965ab2",
   "metadata": {},
   "source": [
    "**Environment exploration**"
   ]
  },
  {
   "cell_type": "code",
   "execution_count": 39,
   "id": "5cc95f75-f8cb-496d-8d41-896dd09a62d4",
   "metadata": {},
   "outputs": [
    {
     "name": "stderr",
     "output_type": "stream",
     "text": [
      "/home/matt/venv/hfrl/lib/python3.10/site-packages/gym/core.py:329: DeprecationWarning: \u001b[33mWARN: Initializing wrapper in old step API which returns one bool instead of two. It is recommended to set `new_step_api=True` to use new step API. This will be the default behaviour in future.\u001b[0m\n",
      "  deprecation(\n",
      "/home/matt/venv/hfrl/lib/python3.10/site-packages/gym/wrappers/step_api_compatibility.py:39: DeprecationWarning: \u001b[33mWARN: Initializing environment in old step API which returns one bool instead of two. It is recommended to set `new_step_api=True` to use new step API. This will be the default behaviour in future.\u001b[0m\n",
      "  deprecation(\n"
     ]
    }
   ],
   "source": [
    "env = gym.make('Taxi-v3')"
   ]
  },
  {
   "cell_type": "code",
   "execution_count": 40,
   "id": "b4f00eb1-562d-4a9b-8927-bbadd520943f",
   "metadata": {},
   "outputs": [
    {
     "name": "stdout",
     "output_type": "stream",
     "text": [
      "There are 500 states and 6 actions\n"
     ]
    }
   ],
   "source": [
    "n_states = env.observation_space.n\n",
    "n_actions = env.action_space.n\n",
    "print(f'There are {n_states} states and {n_actions} actions')"
   ]
  },
  {
   "cell_type": "markdown",
   "id": "bca56bbc-5661-4b13-b702-1ea42da85f3d",
   "metadata": {},
   "source": [
    "**Q table initialization**"
   ]
  },
  {
   "cell_type": "code",
   "execution_count": 42,
   "id": "9e6c9820-7df5-4d57-89c2-031c8007646e",
   "metadata": {},
   "outputs": [],
   "source": [
    "qtable_taxi = initialize_qtable(n_states, n_actions)"
   ]
  },
  {
   "cell_type": "markdown",
   "id": "3169432f-a02f-4f5d-86a7-dc11440b4764",
   "metadata": {},
   "source": [
    "**Hyperparameters**"
   ]
  },
  {
   "cell_type": "code",
   "execution_count": 43,
   "id": "8ac2a6ff-02ed-4f19-b6de-65999e12ee71",
   "metadata": {},
   "outputs": [],
   "source": [
    "# Training parameters\n",
    "n_training_episodes = 25000\n",
    "learning_rate = lambda x: 0.7 # * 0.955 ** int(100 * x)\n",
    "\n",
    "# Evaluation parameters\n",
    "n_eval_episodes = 100\n",
    "\n",
    "# Environment parameters\n",
    "env_id = 'Taxi-v3'\n",
    "max_steps = 99\n",
    "gamma = 0.95\n",
    "eval_seed = [16,54,165,177,191,191,120,80,149,178,48,38,6,125,174,73,50,172,100,148,146,6,25,40,68,148,49,167,9,97,164,176,61,7,54,55,\n",
    " 161,131,184,51,170,12,120,113,95,126,51,98,36,135,54,82,45,95,89,59,95,124,9,113,58,85,51,134,121,169,105,21,30,11,50,65,12,43,82,145,152,97,106,55,31,85,38,\n",
    " 112,102,168,123,97,21,83,158,26,80,63,5,81,32,11,28,148]\n",
    "\n",
    "# Exploration parameters\n",
    "max_epsilon = 1\n",
    "min_epsilon = 0.001\n",
    "decay_rate = 0.004"
   ]
  },
  {
   "cell_type": "markdown",
   "id": "29ad6b48-3834-4561-a962-5cae07e1c553",
   "metadata": {},
   "source": [
    "**Train**"
   ]
  },
  {
   "cell_type": "code",
   "execution_count": 44,
   "id": "5f3cdcbc-89de-4bca-8559-0eefa808bf24",
   "metadata": {},
   "outputs": [
    {
     "data": {
      "application/vnd.jupyter.widget-view+json": {
       "model_id": "5f3a67dd847047708121b99263a9af23",
       "version_major": 2,
       "version_minor": 0
      },
      "text/plain": [
       "  0%|          | 0/25000 [00:00<?, ?it/s]"
      ]
     },
     "metadata": {},
     "output_type": "display_data"
    },
    {
     "name": "stderr",
     "output_type": "stream",
     "text": [
      "/home/matt/venv/hfrl/lib/python3.10/site-packages/gym/utils/passive_env_checker.py:241: DeprecationWarning: `np.bool8` is a deprecated alias for `np.bool_`.  (Deprecated NumPy 1.24)\n",
      "  if not isinstance(terminated, (bool, np.bool8)):\n"
     ]
    },
    {
     "data": {
      "image/png": "[encoded data removed]",
      "text/plain": [
       "<Figure size 640x480 with 1 Axes>"
      ]
     },
     "metadata": {},
     "output_type": "display_data"
    }
   ],
   "source": [
    "qtable_taxi = train(\n",
    "    n_training_episodes,\n",
    "    learning_rate,\n",
    "    min_epsilon,\n",
    "    max_epsilon,\n",
    "    decay_rate,\n",
    "    env,\n",
    "    gamma,\n",
    "    max_steps,\n",
    "    qtable_taxi)"
   ]
  },
  {
   "cell_type": "code",
   "execution_count": 45,
   "id": "191bc17a-981b-4a83-b238-f98ce009d9a7",
   "metadata": {},
   "outputs": [
    {
     "name": "stderr",
     "output_type": "stream",
     "text": [
      "IMAGEIO FFMPEG_WRITER WARNING: input image is not divisible by macro_block_size=16, resizing from (550, 350) to (560, 352) to ensure video compatibility with most codecs and players. To prevent resizing, make your input image divisible by the macro_block_size or set the macro_block_size to 1 (risking incompatibility).\n",
      "[swscaler @ 0x5dc4d00] Warning: data is not aligned! This can lead to a speed loss\n",
      "IMAGEIO FFMPEG_WRITER WARNING: input image is not divisible by macro_block_size=16, resizing from (550, 350) to (560, 352) to ensure video compatibility with most codecs and players. To prevent resizing, make your input image divisible by the macro_block_size or set the macro_block_size to 1 (risking incompatibility).\n",
      "[swscaler @ 0x713fd00] Warning: data is not aligned! This can lead to a speed loss\n",
      "IMAGEIO FFMPEG_WRITER WARNING: input image is not divisible by macro_block_size=16, resizing from (550, 350) to (560, 352) to ensure video compatibility with most codecs and players. To prevent resizing, make your input image divisible by the macro_block_size or set the macro_block_size to 1 (risking incompatibility).\n",
      "[swscaler @ 0x6044d00] Warning: data is not aligned! This can lead to a speed loss\n",
      "IMAGEIO FFMPEG_WRITER WARNING: input image is not divisible by macro_block_size=16, resizing from (550, 350) to (560, 352) to ensure video compatibility with most codecs and players. To prevent resizing, make your input image divisible by the macro_block_size or set the macro_block_size to 1 (risking incompatibility).\n",
      "[swscaler @ 0x6f1ad00] Warning: data is not aligned! This can lead to a speed loss\n",
      "IMAGEIO FFMPEG_WRITER WARNING: input image is not divisible by macro_block_size=16, resizing from (550, 350) to (560, 352) to ensure video compatibility with most codecs and players. To prevent resizing, make your input image divisible by the macro_block_size or set the macro_block_size to 1 (risking incompatibility).\n",
      "[swscaler @ 0x5a93d00] Warning: data is not aligned! This can lead to a speed loss\n"
     ]
    }
   ],
   "source": [
    "for i in range(5):\n",
    "    record_video(env, qtable_taxi, f'./media/taxi/test{i}.mp4', 4)"
   ]
  },
  {
   "cell_type": "code",
   "execution_count": 47,
   "id": "d4597c88-09b1-4076-9ff8-d9e8290a1548",
   "metadata": {},
   "outputs": [
    {
     "data": {
      "text/html": [
       "<video controls autoplay><source src=\"./media/taxi/test1.mp4\" type=\"video/mp4\"></video>\n"
      ],
      "text/plain": [
       "<IPython.core.display.HTML object>"
      ]
     },
     "metadata": {},
     "output_type": "display_data"
    }
   ],
   "source": [
    "%%html\n",
    "<video controls autoplay><source src=\"./media/taxi/test1.mp4\" type=\"video/mp4\"></video>"
   ]
  },
  {
   "cell_type": "markdown",
   "id": "8d8c34a2-b882-4914-b8a9-1f1f79f7062f",
   "metadata": {},
   "source": [
    "**Push to Hub**"
   ]
  },
  {
   "cell_type": "code",
   "execution_count": 50,
   "id": "9c3b60da-f11d-4de4-bb36-26903b52188b",
   "metadata": {},
   "outputs": [],
   "source": [
    "model = {\n",
    "    \"env_id\": env_id,\n",
    "    \"max_steps\": max_steps,\n",
    "    \"n_training_episodes\": n_training_episodes,\n",
    "    \"n_eval_episodes\": n_eval_episodes,\n",
    "    \"eval_seed\": eval_seed,\n",
    "\n",
    "    \"learning_rate\": 0.7,\n",
    "    \"gamma\": gamma,\n",
    "\n",
    "    \"max_epsilon\": max_epsilon,\n",
    "    \"min_epsilon\": min_epsilon,\n",
    "    \"decay_rate\": decay_rate,\n",
    "\n",
    "    \"qtable\": qtable_taxi\n",
    "}"
   ]
  },
  {
   "cell_type": "code",
   "execution_count": 51,
   "id": "fdafa4d5-a298-4b70-8e72-9eb949723899",
   "metadata": {},
   "outputs": [
    {
     "data": {
      "application/vnd.jupyter.widget-view+json": {
       "model_id": "1e9ed3928cc84ac98e6dd8704e5e7288",
       "version_major": 2,
       "version_minor": 0
      },
      "text/plain": [
       "Fetching 1 files:   0%|          | 0/1 [00:00<?, ?it/s]"
      ]
     },
     "metadata": {},
     "output_type": "display_data"
    },
    {
     "data": {
      "application/vnd.jupyter.widget-view+json": {
       "model_id": "e7de62f4fef64ef4aec1b9f043a5a88f",
       "version_major": 2,
       "version_minor": 0
      },
      "text/plain": [
       "  0%|          | 0/100 [00:00<?, ?it/s]"
      ]
     },
     "metadata": {},
     "output_type": "display_data"
    },
    {
     "data": {
      "application/vnd.jupyter.widget-view+json": {
       "model_id": "147a3059ae5f45d6a5efec6a0e9a36f9",
       "version_major": 2,
       "version_minor": 0
      },
      "text/plain": [
       "  0%|          | 0/100 [00:00<?, ?it/s]"
      ]
     },
     "metadata": {},
     "output_type": "display_data"
    },
    {
     "name": "stderr",
     "output_type": "stream",
     "text": [
      "IMAGEIO FFMPEG_WRITER WARNING: input image is not divisible by macro_block_size=16, resizing from (550, 350) to (560, 352) to ensure video compatibility with most codecs and players. To prevent resizing, make your input image divisible by the macro_block_size or set the macro_block_size to 1 (risking incompatibility).\n"
     ]
    },
    {
     "name": "stdout",
     "output_type": "stream",
     "text": [
      "False\n"
     ]
    },
    {
     "name": "stderr",
     "output_type": "stream",
     "text": [
      "[swscaler @ 0x6035000] Warning: data is not aligned! This can lead to a speed loss\n"
     ]
    },
    {
     "name": "stdout",
     "output_type": "stream",
     "text": [
      "Your model is pushed to the Hub. You can view your model here:  https://huggingface.co/matt-guay/q-Taxi-v3\n"
     ]
    }
   ],
   "source": [
    "username = \"matt-guay\"\n",
    "repo_name = \"q-Taxi-v3\"\n",
    "push_to_hub(\n",
    "    repo_id=f\"{username}/{repo_name}\",\n",
    "    model=model,\n",
    "    env=env)"
   ]
  }
 ],
 "metadata": {
  "kernelspec": {
   "display_name": "hfrl",
   "language": "python",
   "name": "hfrl"
  },
  "language_info": {
   "codemirror_mode": {
    "name": "ipython",
    "version": 3
   },
   "file_extension": ".py",
   "mimetype": "text/x-python",
   "name": "python",
   "nbconvert_exporter": "python",
   "pygments_lexer": "ipython3",
   "version": "3.10.6"
  }
 },
 "nbformat": 4,
 "nbformat_minor": 5
}
